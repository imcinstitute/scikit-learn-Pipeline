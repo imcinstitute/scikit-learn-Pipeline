{
 "cells": [
  {
   "cell_type": "code",
   "execution_count": 1,
   "id": "e18cb723",
   "metadata": {},
   "outputs": [],
   "source": [
    "import numpy as np\n",
    "import pandas as pd\n",
    "import matplotlib.pyplot as plt\n",
    "import seaborn as sns"
   ]
  },
  {
   "cell_type": "code",
   "execution_count": 2,
   "id": "106ba2be",
   "metadata": {},
   "outputs": [
    {
     "name": "stdout",
     "output_type": "stream",
     "text": [
      "Copying gs://imcinstitute/data/flight.csv...\n",
      "/ [1 files][  1.5 MiB/  1.5 MiB]                                                \n",
      "Operation completed over 1 objects/1.5 MiB.                                      \n"
     ]
    }
   ],
   "source": [
    "!gsutil cp gs://imcinstitute/data/flight.csv .\n",
    "raw_pd = pd.read_csv(\"flight.csv\")"
   ]
  },
  {
   "cell_type": "markdown",
   "id": "49e7561d",
   "metadata": {},
   "source": [
    "## 1. Business Understanding"
   ]
  },
  {
   "cell_type": "markdown",
   "id": "a9337c3a",
   "metadata": {},
   "source": [
    "## 2. Data Understanding"
   ]
  },
  {
   "cell_type": "markdown",
   "id": "7ec647f6",
   "metadata": {},
   "source": [
    "#### 2.1 ดู contents 5 rows แรก"
   ]
  },
  {
   "cell_type": "code",
   "execution_count": 3,
   "id": "e6af5066",
   "metadata": {},
   "outputs": [
    {
     "data": {
      "text/html": [
       "<div>\n",
       "<style scoped>\n",
       "    .dataframe tbody tr th:only-of-type {\n",
       "        vertical-align: middle;\n",
       "    }\n",
       "\n",
       "    .dataframe tbody tr th {\n",
       "        vertical-align: top;\n",
       "    }\n",
       "\n",
       "    .dataframe thead th {\n",
       "        text-align: right;\n",
       "    }\n",
       "</style>\n",
       "<table border=\"1\" class=\"dataframe\">\n",
       "  <thead>\n",
       "    <tr style=\"text-align: right;\">\n",
       "      <th></th>\n",
       "      <th>date</th>\n",
       "      <th>airline</th>\n",
       "      <th>departure_airport</th>\n",
       "      <th>arrival_airport</th>\n",
       "      <th>departure_delay</th>\n",
       "      <th>arrival_delay</th>\n",
       "      <th>dayofweek</th>\n",
       "      <th>month</th>\n",
       "      <th>delayed</th>\n",
       "    </tr>\n",
       "  </thead>\n",
       "  <tbody>\n",
       "    <tr>\n",
       "      <th>0</th>\n",
       "      <td>2009-02-05</td>\n",
       "      <td>WN</td>\n",
       "      <td>SFO</td>\n",
       "      <td>LAX</td>\n",
       "      <td>2</td>\n",
       "      <td>1</td>\n",
       "      <td>5</td>\n",
       "      <td>2</td>\n",
       "      <td>0</td>\n",
       "    </tr>\n",
       "    <tr>\n",
       "      <th>1</th>\n",
       "      <td>2009-02-05</td>\n",
       "      <td>WN</td>\n",
       "      <td>SFO</td>\n",
       "      <td>LAX</td>\n",
       "      <td>47</td>\n",
       "      <td>43</td>\n",
       "      <td>5</td>\n",
       "      <td>2</td>\n",
       "      <td>1</td>\n",
       "    </tr>\n",
       "    <tr>\n",
       "      <th>2</th>\n",
       "      <td>2009-02-05</td>\n",
       "      <td>WN</td>\n",
       "      <td>SFO</td>\n",
       "      <td>LAX</td>\n",
       "      <td>52</td>\n",
       "      <td>42</td>\n",
       "      <td>5</td>\n",
       "      <td>2</td>\n",
       "      <td>1</td>\n",
       "    </tr>\n",
       "    <tr>\n",
       "      <th>3</th>\n",
       "      <td>2009-02-05</td>\n",
       "      <td>WN</td>\n",
       "      <td>SFO</td>\n",
       "      <td>LAX</td>\n",
       "      <td>92</td>\n",
       "      <td>84</td>\n",
       "      <td>5</td>\n",
       "      <td>2</td>\n",
       "      <td>1</td>\n",
       "    </tr>\n",
       "    <tr>\n",
       "      <th>4</th>\n",
       "      <td>2009-02-05</td>\n",
       "      <td>WN</td>\n",
       "      <td>SFO</td>\n",
       "      <td>LAX</td>\n",
       "      <td>80</td>\n",
       "      <td>76</td>\n",
       "      <td>5</td>\n",
       "      <td>2</td>\n",
       "      <td>1</td>\n",
       "    </tr>\n",
       "  </tbody>\n",
       "</table>\n",
       "</div>"
      ],
      "text/plain": [
       "         date airline departure_airport arrival_airport  departure_delay  \\\n",
       "0  2009-02-05      WN               SFO             LAX                2   \n",
       "1  2009-02-05      WN               SFO             LAX               47   \n",
       "2  2009-02-05      WN               SFO             LAX               52   \n",
       "3  2009-02-05      WN               SFO             LAX               92   \n",
       "4  2009-02-05      WN               SFO             LAX               80   \n",
       "\n",
       "   arrival_delay  dayofweek  month  delayed  \n",
       "0              1          5      2        0  \n",
       "1             43          5      2        1  \n",
       "2             42          5      2        1  \n",
       "3             84          5      2        1  \n",
       "4             76          5      2        1  "
      ]
     },
     "execution_count": 3,
     "metadata": {},
     "output_type": "execute_result"
    }
   ],
   "source": [
    "raw_pd.head(5)"
   ]
  },
  {
   "cell_type": "code",
   "execution_count": null,
   "id": "be2799ce",
   "metadata": {},
   "outputs": [],
   "source": []
  },
  {
   "cell_type": "markdown",
   "id": "93fc50d4",
   "metadata": {},
   "source": [
    "#### 2.2 ดู Shape ของข้อมูล พบว่า เป็นแบบ 2 Dimensions"
   ]
  },
  {
   "cell_type": "code",
   "execution_count": 4,
   "id": "c9d1ef69",
   "metadata": {},
   "outputs": [
    {
     "data": {
      "text/plain": [
       "(47785, 9)"
      ]
     },
     "execution_count": 4,
     "metadata": {},
     "output_type": "execute_result"
    }
   ],
   "source": [
    "raw_pd.shape"
   ]
  },
  {
   "cell_type": "code",
   "execution_count": null,
   "id": "e2fedee4",
   "metadata": {},
   "outputs": [],
   "source": []
  },
  {
   "cell_type": "markdown",
   "id": "6f546eca",
   "metadata": {},
   "source": [
    "#### 2.3 ดู Data Type ของแต่ละ Attributes"
   ]
  },
  {
   "cell_type": "code",
   "execution_count": 5,
   "id": "63807314",
   "metadata": {},
   "outputs": [
    {
     "name": "stdout",
     "output_type": "stream",
     "text": [
      "<class 'pandas.core.frame.DataFrame'>\n",
      "RangeIndex: 47785 entries, 0 to 47784\n",
      "Data columns (total 9 columns):\n",
      " #   Column             Non-Null Count  Dtype \n",
      "---  ------             --------------  ----- \n",
      " 0   date               47785 non-null  object\n",
      " 1   airline            47785 non-null  object\n",
      " 2   departure_airport  47785 non-null  object\n",
      " 3   arrival_airport    47785 non-null  object\n",
      " 4   departure_delay    47785 non-null  int64 \n",
      " 5   arrival_delay      47785 non-null  int64 \n",
      " 6   dayofweek          47785 non-null  int64 \n",
      " 7   month              47785 non-null  int64 \n",
      " 8   delayed            47785 non-null  int64 \n",
      "dtypes: int64(5), object(4)\n",
      "memory usage: 3.3+ MB\n"
     ]
    }
   ],
   "source": [
    "raw_pd.info()"
   ]
  },
  {
   "cell_type": "code",
   "execution_count": null,
   "id": "353501ca",
   "metadata": {},
   "outputs": [],
   "source": []
  },
  {
   "cell_type": "markdown",
   "id": "d79d8641",
   "metadata": {},
   "source": [
    "#### 2.4 ตรวจสอบค่า Null ในแต่ละ Attributes"
   ]
  },
  {
   "cell_type": "code",
   "execution_count": 6,
   "id": "13001877",
   "metadata": {},
   "outputs": [
    {
     "data": {
      "text/plain": [
       "date                 0\n",
       "airline              0\n",
       "departure_airport    0\n",
       "arrival_airport      0\n",
       "departure_delay      0\n",
       "arrival_delay        0\n",
       "dayofweek            0\n",
       "month                0\n",
       "delayed              0\n",
       "dtype: int64"
      ]
     },
     "execution_count": 6,
     "metadata": {},
     "output_type": "execute_result"
    }
   ],
   "source": [
    "raw_pd.isnull().sum()"
   ]
  },
  {
   "cell_type": "code",
   "execution_count": 7,
   "id": "201b9828",
   "metadata": {},
   "outputs": [],
   "source": [
    "# กำหนด Cols ที่ contain NULL แต่ธุรกิจจำเป็นต้องใช้\n",
    "nullNeedCol_list = []"
   ]
  },
  {
   "cell_type": "code",
   "execution_count": null,
   "id": "ae569d3f",
   "metadata": {},
   "outputs": [],
   "source": []
  },
  {
   "cell_type": "markdown",
   "id": "aebb0e89",
   "metadata": {},
   "source": [
    "#### 2.5 EDA with Frequency Distribution เพื่อดู Bias"
   ]
  },
  {
   "cell_type": "code",
   "execution_count": 8,
   "id": "151c220b",
   "metadata": {},
   "outputs": [
    {
     "name": "stdout",
     "output_type": "stream",
     "text": [
      "Categorical columns are: ['date', 'airline', 'departure_airport', 'arrival_airport']\n",
      "Numerical columns are: ['departure_delay', 'arrival_delay', 'dayofweek', 'month', 'delayed']\n"
     ]
    }
   ],
   "source": [
    "# Define categorical columns\n",
    "categorical_list = list(raw_pd.select_dtypes('object').columns)\n",
    "print(f\"Categorical columns are: {categorical_list}\")\n",
    "\n",
    "# Define numerical columns\n",
    "numerical_list = list(raw_pd.select_dtypes('number').columns)\n",
    "print(f\"Numerical columns are: {numerical_list}\")"
   ]
  },
  {
   "cell_type": "code",
   "execution_count": null,
   "id": "dd1227ab",
   "metadata": {},
   "outputs": [],
   "source": []
  },
  {
   "cell_type": "markdown",
   "id": "86ec3de5",
   "metadata": {},
   "source": [
    "#### 2.6 EDA with Frequency Distribution of Categorical Values"
   ]
  },
  {
   "cell_type": "code",
   "execution_count": 9,
   "id": "2886f625",
   "metadata": {},
   "outputs": [
    {
     "name": "stdout",
     "output_type": "stream",
     "text": [
      "                date\n",
      "date                \n",
      "2009-12-21  0.585958\n",
      "2009-06-12  0.514806\n",
      "2009-06-11  0.512713\n",
      "2009-06-15  0.504342\n",
      "2009-02-13  0.502250\n",
      "...              ...\n",
      "2009-09-06  0.106728\n",
      "2009-01-13  0.098357\n",
      "2009-01-21  0.098357\n",
      "2009-03-07  0.096265\n",
      "2009-11-26  0.069059\n",
      "\n",
      "[365 rows x 1 columns]\n",
      "           airline\n",
      "airline           \n",
      "OO       29.011196\n",
      "UA       25.150152\n",
      "WN       16.352412\n",
      "AA        8.452443\n",
      "CO        4.986921\n",
      "US        3.515748\n",
      "DL        2.913048\n",
      "AS        2.766559\n",
      "NW        2.396149\n",
      "B6        1.383279\n",
      "F9        1.002407\n",
      "MQ        0.922884\n",
      "FL        0.858010\n",
      "HA        0.276237\n",
      "YV        0.012556\n",
      "                   departure_airport\n",
      "departure_airport                   \n",
      "SFO                            100.0\n",
      "                 arrival_airport\n",
      "arrival_airport                 \n",
      "LAX                     8.873077\n",
      "SAN                     5.258972\n",
      "LAS                     4.997384\n",
      "DEN                     4.572565\n",
      "ORD                     4.133096\n",
      "...                          ...\n",
      "MCI                     0.071152\n",
      "FLL                     0.069059\n",
      "ASE                     0.058596\n",
      "ANC                     0.052318\n",
      "BZN                     0.031391\n",
      "\n",
      "[69 rows x 1 columns]\n"
     ]
    }
   ],
   "source": [
    "for item_cat in categorical_list:\n",
    "    print(raw_pd.groupby(item_cat).agg({item_cat:'count'})\\\n",
    "          .apply(lambda x:100 * x / float(x.sum()))\\\n",
    "    .apply(lambda x: x.sort_values(ascending=False)))"
   ]
  },
  {
   "cell_type": "code",
   "execution_count": 10,
   "id": "37368088",
   "metadata": {},
   "outputs": [
    {
     "name": "stdout",
     "output_type": "stream",
     "text": [
      "2009-12-21    280\n",
      "2009-06-12    246\n",
      "2009-06-11    245\n",
      "2009-06-15    241\n",
      "2009-02-13    240\n",
      "             ... \n",
      "2009-09-06     51\n",
      "2009-01-13     47\n",
      "2009-01-21     47\n",
      "2009-03-07     46\n",
      "2009-11-26     33\n",
      "Name: date, Length: 365, dtype: int64\n",
      "OO    13863\n",
      "UA    12018\n",
      "WN     7814\n",
      "AA     4039\n",
      "CO     2383\n",
      "US     1680\n",
      "DL     1392\n",
      "AS     1322\n",
      "NW     1145\n",
      "B6      661\n",
      "F9      479\n",
      "MQ      441\n",
      "FL      410\n",
      "HA      132\n",
      "YV        6\n",
      "Name: airline, dtype: int64\n",
      "SFO    47785\n",
      "Name: departure_airport, dtype: int64\n",
      "LAX    4240\n",
      "SAN    2513\n",
      "LAS    2388\n",
      "DEN    2185\n",
      "ORD    1975\n",
      "       ... \n",
      "MCI      34\n",
      "FLL      33\n",
      "ASE      28\n",
      "ANC      25\n",
      "BZN      15\n",
      "Name: arrival_airport, Length: 69, dtype: int64\n"
     ]
    }
   ],
   "source": [
    "for item_cat in categorical_list:\n",
    "    print(raw_pd[item_cat].value_counts())"
   ]
  },
  {
   "cell_type": "code",
   "execution_count": null,
   "id": "2015bab7",
   "metadata": {},
   "outputs": [],
   "source": []
  },
  {
   "cell_type": "markdown",
   "id": "5990ca38",
   "metadata": {},
   "source": [
    "#### 2.7 EDA with Frequency Distribution of Numerical Values"
   ]
  },
  {
   "cell_type": "code",
   "execution_count": 11,
   "id": "7f5201d4",
   "metadata": {},
   "outputs": [
    {
     "name": "stdout",
     "output_type": "stream",
     "text": [
      "                 departure_delay\n",
      "departure_delay                 \n",
      "1                       7.707440\n",
      "2                       6.039552\n",
      "3                       4.857173\n",
      "4                       4.444909\n",
      "5                       3.764780\n",
      "...                          ...\n",
      "115                     0.142304\n",
      "107                     0.142304\n",
      "117                     0.138119\n",
      "120                     0.127655\n",
      "119                     0.110913\n",
      "\n",
      "[120 rows x 1 columns]\n",
      "               arrival_delay\n",
      "arrival_delay               \n",
      " 0                  2.080151\n",
      "-2                  2.071780\n",
      "-1                  2.071780\n",
      " 1                  2.067594\n",
      " 2                  2.063409\n",
      "...                      ...\n",
      "-57                 0.002093\n",
      "-50                 0.002093\n",
      "-54                 0.002093\n",
      "-56                 0.002093\n",
      " 189                0.002093\n",
      "\n",
      "[221 rows x 1 columns]\n",
      "           dayofweek\n",
      "dayofweek           \n",
      "6          15.877367\n",
      "1          15.605315\n",
      "5          15.552998\n",
      "2          15.132364\n",
      "4          13.462384\n",
      "3          12.572983\n",
      "7          11.796589\n",
      "           month\n",
      "month           \n",
      "12     10.204039\n",
      "6      10.105682\n",
      "10      9.622266\n",
      "7       9.544836\n",
      "8       9.471592\n",
      "5       8.485927\n",
      "3       7.732552\n",
      "2       7.638380\n",
      "1       7.523281\n",
      "4       7.301454\n",
      "9       6.589934\n",
      "11      5.780057\n",
      "          delayed\n",
      "delayed          \n",
      "0        52.28419\n",
      "1        47.71581\n"
     ]
    }
   ],
   "source": [
    "for item_num in numerical_list:\n",
    "    print(raw_pd.groupby(item_num).agg({item_num:'count'})\\\n",
    "          .apply(lambda x:100 * x / float(x.sum()))\\\n",
    "    .apply(lambda x: x.sort_values(ascending=False)))"
   ]
  },
  {
   "cell_type": "code",
   "execution_count": 12,
   "id": "482ebf4f",
   "metadata": {},
   "outputs": [
    {
     "data": {
      "image/png": "[encoded data removed]",
      "text/plain": [
       "<Figure size 1440x1080 with 6 Axes>"
      ]
     },
     "metadata": {
      "needs_background": "light"
     },
     "output_type": "display_data"
    }
   ],
   "source": [
    "raw_pd.hist(bins=100, figsize=(20,15))\n",
    "plt.show()"
   ]
  },
  {
   "cell_type": "code",
   "execution_count": null,
   "id": "7eb81402",
   "metadata": {},
   "outputs": [],
   "source": []
  },
  {
   "cell_type": "markdown",
   "id": "f4258db4",
   "metadata": {},
   "source": [
    "#### 2.8 EDA with Basic Stats. เพื่อดู Dispersion ของข้อมูล"
   ]
  },
  {
   "cell_type": "code",
   "execution_count": 13,
   "id": "4326846d",
   "metadata": {},
   "outputs": [
    {
     "data": {
      "text/html": [
       "<div>\n",
       "<style scoped>\n",
       "    .dataframe tbody tr th:only-of-type {\n",
       "        vertical-align: middle;\n",
       "    }\n",
       "\n",
       "    .dataframe tbody tr th {\n",
       "        vertical-align: top;\n",
       "    }\n",
       "\n",
       "    .dataframe thead th {\n",
       "        text-align: right;\n",
       "    }\n",
       "</style>\n",
       "<table border=\"1\" class=\"dataframe\">\n",
       "  <thead>\n",
       "    <tr style=\"text-align: right;\">\n",
       "      <th></th>\n",
       "      <th>departure_delay</th>\n",
       "      <th>arrival_delay</th>\n",
       "      <th>dayofweek</th>\n",
       "      <th>month</th>\n",
       "      <th>delayed</th>\n",
       "    </tr>\n",
       "  </thead>\n",
       "  <tbody>\n",
       "    <tr>\n",
       "      <th>count</th>\n",
       "      <td>47785.000000</td>\n",
       "      <td>47785.000000</td>\n",
       "      <td>47785.000000</td>\n",
       "      <td>47785.000000</td>\n",
       "      <td>47785.000000</td>\n",
       "    </tr>\n",
       "    <tr>\n",
       "      <th>mean</th>\n",
       "      <td>27.721147</td>\n",
       "      <td>22.218269</td>\n",
       "      <td>3.930438</td>\n",
       "      <td>6.624150</td>\n",
       "      <td>0.477158</td>\n",
       "    </tr>\n",
       "    <tr>\n",
       "      <th>std</th>\n",
       "      <td>29.436796</td>\n",
       "      <td>31.939881</td>\n",
       "      <td>1.995762</td>\n",
       "      <td>3.392922</td>\n",
       "      <td>0.499483</td>\n",
       "    </tr>\n",
       "    <tr>\n",
       "      <th>min</th>\n",
       "      <td>1.000000</td>\n",
       "      <td>-65.000000</td>\n",
       "      <td>1.000000</td>\n",
       "      <td>1.000000</td>\n",
       "      <td>0.000000</td>\n",
       "    </tr>\n",
       "    <tr>\n",
       "      <th>25%</th>\n",
       "      <td>5.000000</td>\n",
       "      <td>-1.000000</td>\n",
       "      <td>2.000000</td>\n",
       "      <td>4.000000</td>\n",
       "      <td>0.000000</td>\n",
       "    </tr>\n",
       "    <tr>\n",
       "      <th>50%</th>\n",
       "      <td>16.000000</td>\n",
       "      <td>13.000000</td>\n",
       "      <td>4.000000</td>\n",
       "      <td>7.000000</td>\n",
       "      <td>0.000000</td>\n",
       "    </tr>\n",
       "    <tr>\n",
       "      <th>75%</th>\n",
       "      <td>42.000000</td>\n",
       "      <td>38.000000</td>\n",
       "      <td>6.000000</td>\n",
       "      <td>10.000000</td>\n",
       "      <td>1.000000</td>\n",
       "    </tr>\n",
       "    <tr>\n",
       "      <th>max</th>\n",
       "      <td>120.000000</td>\n",
       "      <td>189.000000</td>\n",
       "      <td>7.000000</td>\n",
       "      <td>12.000000</td>\n",
       "      <td>1.000000</td>\n",
       "    </tr>\n",
       "  </tbody>\n",
       "</table>\n",
       "</div>"
      ],
      "text/plain": [
       "       departure_delay  arrival_delay     dayofweek         month  \\\n",
       "count     47785.000000   47785.000000  47785.000000  47785.000000   \n",
       "mean         27.721147      22.218269      3.930438      6.624150   \n",
       "std          29.436796      31.939881      1.995762      3.392922   \n",
       "min           1.000000     -65.000000      1.000000      1.000000   \n",
       "25%           5.000000      -1.000000      2.000000      4.000000   \n",
       "50%          16.000000      13.000000      4.000000      7.000000   \n",
       "75%          42.000000      38.000000      6.000000     10.000000   \n",
       "max         120.000000     189.000000      7.000000     12.000000   \n",
       "\n",
       "            delayed  \n",
       "count  47785.000000  \n",
       "mean       0.477158  \n",
       "std        0.499483  \n",
       "min        0.000000  \n",
       "25%        0.000000  \n",
       "50%        0.000000  \n",
       "75%        1.000000  \n",
       "max        1.000000  "
      ]
     },
     "execution_count": 13,
     "metadata": {},
     "output_type": "execute_result"
    }
   ],
   "source": [
    "raw_pd.describe()"
   ]
  },
  {
   "cell_type": "code",
   "execution_count": null,
   "id": "ff858673",
   "metadata": {},
   "outputs": [],
   "source": []
  },
  {
   "cell_type": "markdown",
   "id": "8bfcb89c",
   "metadata": {},
   "source": [
    "#### 2.9 กำหนด Candidated Features"
   ]
  },
  {
   "cell_type": "code",
   "execution_count": 14,
   "id": "e8f9ae17",
   "metadata": {},
   "outputs": [],
   "source": [
    "noNullCol_list = []"
   ]
  },
  {
   "cell_type": "code",
   "execution_count": 15,
   "id": "5da2c2e2",
   "metadata": {},
   "outputs": [],
   "source": [
    "for item_col in raw_pd.columns.to_list():\n",
    "    if raw_pd[item_col].isnull().sum() == 0:\n",
    "        noNullCol_list.append(item_col)\n",
    "        "
   ]
  },
  {
   "cell_type": "code",
   "execution_count": 16,
   "id": "27a5335d",
   "metadata": {},
   "outputs": [
    {
     "data": {
      "text/plain": [
       "['date',\n",
       " 'airline',\n",
       " 'departure_airport',\n",
       " 'arrival_airport',\n",
       " 'departure_delay',\n",
       " 'arrival_delay',\n",
       " 'dayofweek',\n",
       " 'month',\n",
       " 'delayed']"
      ]
     },
     "execution_count": 16,
     "metadata": {},
     "output_type": "execute_result"
    }
   ],
   "source": [
    "noNullCol_list"
   ]
  },
  {
   "cell_type": "code",
   "execution_count": 17,
   "id": "a7aac283",
   "metadata": {},
   "outputs": [],
   "source": [
    "candidatedFeatures_list = noNullCol_list+nullNeedCol_list"
   ]
  },
  {
   "cell_type": "code",
   "execution_count": 18,
   "id": "3ad8ece5",
   "metadata": {},
   "outputs": [],
   "source": [
    "candidatedFeatures_pd = raw_pd.filter(candidatedFeatures_list)\\\n",
    ".drop(['date','arrival_delay','departure_airport'], axis=1).dropna()"
   ]
  },
  {
   "cell_type": "code",
   "execution_count": null,
   "id": "845254bc",
   "metadata": {},
   "outputs": [],
   "source": []
  },
  {
   "cell_type": "markdown",
   "id": "180a9043",
   "metadata": {},
   "source": [
    "#### 2.10 EDA of Candidate Features with Checking for NULL"
   ]
  },
  {
   "cell_type": "code",
   "execution_count": 19,
   "id": "e09a692b",
   "metadata": {},
   "outputs": [
    {
     "data": {
      "text/plain": [
       "airline            0\n",
       "arrival_airport    0\n",
       "departure_delay    0\n",
       "dayofweek          0\n",
       "month              0\n",
       "delayed            0\n",
       "dtype: int64"
      ]
     },
     "execution_count": 19,
     "metadata": {},
     "output_type": "execute_result"
    }
   ],
   "source": [
    "candidatedFeatures_pd.isnull().sum()"
   ]
  },
  {
   "cell_type": "code",
   "execution_count": 20,
   "id": "6aba282d",
   "metadata": {},
   "outputs": [
    {
     "data": {
      "text/plain": [
       "airline            47785\n",
       "arrival_airport    47785\n",
       "departure_delay    47785\n",
       "dayofweek          47785\n",
       "month              47785\n",
       "delayed            47785\n",
       "dtype: int64"
      ]
     },
     "execution_count": 20,
     "metadata": {},
     "output_type": "execute_result"
    }
   ],
   "source": [
    "candidatedFeatures_pd.count()"
   ]
  },
  {
   "cell_type": "markdown",
   "id": "eccd9d1c",
   "metadata": {},
   "source": [
    "## 3. Data Preparation"
   ]
  },
  {
   "cell_type": "markdown",
   "id": "904a4b0b",
   "metadata": {},
   "source": [
    "## 4. Modeling (Features Transformation and ML Algorithms)"
   ]
  },
  {
   "cell_type": "code",
   "execution_count": 21,
   "id": "b12bf371",
   "metadata": {},
   "outputs": [],
   "source": [
    "import pandas as pd\n",
    "from seaborn import load_dataset\n",
    "import numpy as np\n",
    "\n",
    "from sklearn.model_selection import train_test_split\n",
    "from sklearn.base import BaseEstimator, TransformerMixin\n",
    "from sklearn.preprocessing import OneHotEncoder, MinMaxScaler\n",
    "from sklearn.impute import SimpleImputer\n",
    "from sklearn.pipeline import Pipeline, FeatureUnion\n",
    "from sklearn.compose import ColumnTransformer\n",
    "from sklearn.linear_model import LinearRegression"
   ]
  },
  {
   "cell_type": "markdown",
   "id": "fea9afe6",
   "metadata": {},
   "source": [
    "#### 4.1 แบ่งแยก Training/Testing Set"
   ]
  },
  {
   "cell_type": "code",
   "execution_count": 22,
   "id": "9ce1d665",
   "metadata": {},
   "outputs": [],
   "source": [
    "train_df = candidatedFeatures_pd.sample(frac=0.8,random_state=123)"
   ]
  },
  {
   "cell_type": "code",
   "execution_count": 23,
   "id": "38f29e1e",
   "metadata": {},
   "outputs": [],
   "source": [
    "test_df = candidatedFeatures_pd.drop(train_df.index)"
   ]
  },
  {
   "cell_type": "code",
   "execution_count": 24,
   "id": "7514bde3",
   "metadata": {},
   "outputs": [
    {
     "data": {
      "text/plain": [
       "airline            38228\n",
       "arrival_airport    38228\n",
       "departure_delay    38228\n",
       "dayofweek          38228\n",
       "month              38228\n",
       "delayed            38228\n",
       "dtype: int64"
      ]
     },
     "execution_count": 24,
     "metadata": {},
     "output_type": "execute_result"
    }
   ],
   "source": [
    "train_df.count()"
   ]
  },
  {
   "cell_type": "code",
   "execution_count": 25,
   "id": "4c6c3237",
   "metadata": {},
   "outputs": [
    {
     "data": {
      "text/plain": [
       "airline            9557\n",
       "arrival_airport    9557\n",
       "departure_delay    9557\n",
       "dayofweek          9557\n",
       "month              9557\n",
       "delayed            9557\n",
       "dtype: int64"
      ]
     },
     "execution_count": 25,
     "metadata": {},
     "output_type": "execute_result"
    }
   ],
   "source": [
    "test_df.count()"
   ]
  },
  {
   "cell_type": "code",
   "execution_count": null,
   "id": "a0acfb05",
   "metadata": {},
   "outputs": [],
   "source": []
  },
  {
   "cell_type": "markdown",
   "id": "4191f587",
   "metadata": {},
   "source": [
    "#### 4.2 แบ่งแยก Descriptive Features and Target Feature (Label) ออกจากกัน ตามหลักการของ Scikit Learn"
   ]
  },
  {
   "cell_type": "code",
   "execution_count": 26,
   "id": "b09e0071",
   "metadata": {},
   "outputs": [],
   "source": [
    "train_labels = train_df.filter(['delayed'])\n",
    "train_df = train_df.loc[:, train_df.columns != 'delayed']"
   ]
  },
  {
   "cell_type": "code",
   "execution_count": 27,
   "id": "55db4630",
   "metadata": {},
   "outputs": [],
   "source": [
    "test_labels = test_df.filter(['delayed'])\n",
    "test_df = test_df.loc[:, test_df.columns != 'delayed']"
   ]
  },
  {
   "cell_type": "code",
   "execution_count": 28,
   "id": "4f04c715",
   "metadata": {},
   "outputs": [],
   "source": [
    "X_train = train_df"
   ]
  },
  {
   "cell_type": "code",
   "execution_count": 29,
   "id": "5f6f2b48",
   "metadata": {},
   "outputs": [],
   "source": [
    "X_test = test_df"
   ]
  },
  {
   "cell_type": "code",
   "execution_count": 30,
   "id": "2ece8d85",
   "metadata": {},
   "outputs": [],
   "source": [
    "y_train = train_labels"
   ]
  },
  {
   "cell_type": "code",
   "execution_count": 31,
   "id": "cc95c440",
   "metadata": {},
   "outputs": [],
   "source": [
    "y_test = test_labels"
   ]
  },
  {
   "cell_type": "code",
   "execution_count": null,
   "id": "c120b742",
   "metadata": {},
   "outputs": [],
   "source": []
  },
  {
   "cell_type": "markdown",
   "id": "d7fc4c57",
   "metadata": {},
   "source": [
    "#### 4.3 ตรวจสอบว่า Features ไหนเป็น Categorical หรือ Numerical เพื่อเลือกทำ Transformation ให้เหมาะสมต่อไป"
   ]
  },
  {
   "cell_type": "code",
   "execution_count": 32,
   "id": "e3dfef6f",
   "metadata": {},
   "outputs": [
    {
     "name": "stdout",
     "output_type": "stream",
     "text": [
      "Categorical columns are: ['airline', 'arrival_airport']\n",
      "Numerical columns are: ['departure_delay', 'dayofweek', 'month']\n"
     ]
    }
   ],
   "source": [
    "categorical = list(X_train.select_dtypes('object').columns)\n",
    "print(f\"Categorical columns are: {categorical}\")\n",
    "\n",
    "numerical = list(X_train.select_dtypes('number').columns)\n",
    "print(f\"Numerical columns are: {numerical}\")"
   ]
  },
  {
   "cell_type": "code",
   "execution_count": null,
   "id": "a65651a0",
   "metadata": {},
   "outputs": [],
   "source": []
  },
  {
   "cell_type": "markdown",
   "id": "50e01dea",
   "metadata": {},
   "source": [
    "#### 4.4 Define/Run a pipeline for transforming features and modeling"
   ]
  },
  {
   "cell_type": "code",
   "execution_count": 33,
   "id": "5478c01d",
   "metadata": {},
   "outputs": [],
   "source": [
    "from sklearn.tree import DecisionTreeClassifier, export_graphviz\n",
    "from sklearn import tree\n",
    "from sklearn.datasets import load_wine\n",
    "from sklearn.model_selection import train_test_split\n",
    "from sklearn import metrics"
   ]
  },
  {
   "cell_type": "code",
   "execution_count": 34,
   "id": "b79d6e46",
   "metadata": {},
   "outputs": [],
   "source": [
    "# Define custom transformer\n",
    "class ColumnSelector(BaseEstimator, TransformerMixin):\n",
    "    \"\"\"Select only specified columns.\"\"\"\n",
    "    def __init__(self, columns):\n",
    "        self.columns = columns\n",
    "        \n",
    "    def fit(self, X, y=None):\n",
    "        return self\n",
    "    \n",
    "    def transform(self, X):\n",
    "        return X[self.columns]\n",
    "\n",
    "# Define categorical pipeline\n",
    "cat_pipe = Pipeline([('selector', ColumnSelector(categorical)),\n",
    "                     ('imputer', SimpleImputer(strategy='constant', fill_value='missing')),\n",
    "                     ('encoder', OneHotEncoder(handle_unknown='ignore', sparse=False))])\n",
    "\n",
    "# Define numerical pipeline\n",
    "num_pipe = Pipeline([('selector', ColumnSelector(numerical))\n",
    "                     #('imputer', SimpleImputer(strategy='median')),\n",
    "                     #('scaler', MinMaxScaler())\n",
    "                    ])\n",
    "\n",
    "# Combine categorical and numerical pipeline\n",
    "preprocessor = FeatureUnion(transformer_list=[('cat', cat_pipe),\n",
    "                                              ('num', num_pipe)])\n",
    "\n",
    "# Model Training\n",
    "pipe = Pipeline(steps=[('preprocessor', preprocessor),\n",
    "                       ('model', DecisionTreeClassifier(criterion=\"entropy\", max_depth=None))])\n",
    "pipeline_model = pipe.fit(X_train, y_train)"
   ]
  },
  {
   "cell_type": "code",
   "execution_count": null,
   "id": "71a40247",
   "metadata": {},
   "outputs": [],
   "source": []
  },
  {
   "cell_type": "markdown",
   "id": "5350e2cb",
   "metadata": {},
   "source": [
    "## 5. Model Evaluation"
   ]
  },
  {
   "cell_type": "markdown",
   "id": "93e1ef77",
   "metadata": {},
   "source": [
    "#### 5.1 คำนวณค่าตามเกณฑ์การประเมิน"
   ]
  },
  {
   "cell_type": "code",
   "execution_count": 35,
   "id": "a4077bc3",
   "metadata": {},
   "outputs": [
    {
     "name": "stdout",
     "output_type": "stream",
     "text": [
      "Confusion Matrix (predict/actual):\n",
      "       0     1\n",
      "0  4157   805\n",
      "1   857  3738\n",
      "\n",
      "Recall:\n",
      " 0    0.837767\n",
      "1    0.813493\n",
      "dtype: float64\n",
      "\n",
      "Precision:\n",
      " 0    0.829079\n",
      "1    0.822804\n",
      "dtype: float64\n",
      "\n",
      "F1 score:\n",
      " 0.8260544910685232\n"
     ]
    }
   ],
   "source": [
    "y_pred = pipeline_model.predict(X_test).flatten()\n",
    "\n",
    "\n",
    "from sklearn.metrics import confusion_matrix\n",
    "cm = confusion_matrix(y_test, y_pred)\n",
    "print(\"Confusion Matrix (predict/actual):\\n\", pd.DataFrame(cm))\n",
    "\n",
    "\n",
    "pipeline_model.score(X_test, y_test)\n",
    "\n",
    "recall = np.diag(cm) / np.sum(cm, axis=1)\n",
    "print(\"\\nRecall:\\n\", pd.Series(recall))\n",
    "\n",
    "precision = np.diag(cm) / np.sum(cm, axis=0)\n",
    "print(\"\\nPrecision:\\n\", pd.Series(precision))\n",
    "\n",
    "\n",
    "from sklearn.metrics import f1_score\n",
    "weighted_f1 = f1_score(y_test, y_pred, average=\"weighted\")\n",
    "print(\"\\nF1 score:\\n\", weighted_f1)"
   ]
  },
  {
   "cell_type": "code",
   "execution_count": null,
   "id": "8a7dc7b0",
   "metadata": {},
   "outputs": [],
   "source": []
  },
  {
   "cell_type": "markdown",
   "id": "d2f8133f",
   "metadata": {},
   "source": [
    "#### 5.2 คำนวณ Feature Importance"
   ]
  },
  {
   "cell_type": "code",
   "execution_count": 36,
   "id": "73d46641",
   "metadata": {},
   "outputs": [],
   "source": [
    "pipeline_model_featureUnion = pipeline_model.named_steps['model']"
   ]
  },
  {
   "cell_type": "code",
   "execution_count": 37,
   "id": "cd274841",
   "metadata": {},
   "outputs": [],
   "source": [
    "#pipeline_model_featureUnion.feature_importances_"
   ]
  },
  {
   "cell_type": "code",
   "execution_count": 38,
   "id": "7c929790",
   "metadata": {},
   "outputs": [],
   "source": [
    "pipeline_features_coeff = pipeline_model_featureUnion.feature_importances_"
   ]
  },
  {
   "cell_type": "code",
   "execution_count": 39,
   "id": "b9a4d1e5",
   "metadata": {},
   "outputs": [],
   "source": [
    "# Getting machine-readable columns\n",
    "cat_columns = preprocessor.transformer_list[0][1][2].get_feature_names(categorical)\n",
    "columns = np.append(cat_columns, numerical)"
   ]
  },
  {
   "cell_type": "code",
   "execution_count": 40,
   "id": "7f979464",
   "metadata": {},
   "outputs": [],
   "source": [
    "zipped = zip(columns,pipeline_features_coeff)"
   ]
  },
  {
   "cell_type": "code",
   "execution_count": 41,
   "id": "27557181",
   "metadata": {},
   "outputs": [],
   "source": [
    "coeff_pd = pd.DataFrame(zipped,columns=[\"machine_features\",\"value\"])"
   ]
  },
  {
   "cell_type": "code",
   "execution_count": 42,
   "id": "4ec0c30c",
   "metadata": {},
   "outputs": [
    {
     "data": {
      "text/html": [
       "<div>\n",
       "<style scoped>\n",
       "    .dataframe tbody tr th:only-of-type {\n",
       "        vertical-align: middle;\n",
       "    }\n",
       "\n",
       "    .dataframe tbody tr th {\n",
       "        vertical-align: top;\n",
       "    }\n",
       "\n",
       "    .dataframe thead th {\n",
       "        text-align: right;\n",
       "    }\n",
       "</style>\n",
       "<table border=\"1\" class=\"dataframe\">\n",
       "  <thead>\n",
       "    <tr style=\"text-align: right;\">\n",
       "      <th></th>\n",
       "      <th>machine_features</th>\n",
       "      <th>value</th>\n",
       "    </tr>\n",
       "  </thead>\n",
       "  <tbody>\n",
       "    <tr>\n",
       "      <th>0</th>\n",
       "      <td>airline_AA</td>\n",
       "      <td>0.006162</td>\n",
       "    </tr>\n",
       "    <tr>\n",
       "      <th>1</th>\n",
       "      <td>airline_AS</td>\n",
       "      <td>0.003410</td>\n",
       "    </tr>\n",
       "    <tr>\n",
       "      <th>2</th>\n",
       "      <td>airline_B6</td>\n",
       "      <td>0.002127</td>\n",
       "    </tr>\n",
       "    <tr>\n",
       "      <th>3</th>\n",
       "      <td>airline_CO</td>\n",
       "      <td>0.003240</td>\n",
       "    </tr>\n",
       "    <tr>\n",
       "      <th>4</th>\n",
       "      <td>airline_DL</td>\n",
       "      <td>0.002935</td>\n",
       "    </tr>\n",
       "    <tr>\n",
       "      <th>...</th>\n",
       "      <td>...</td>\n",
       "      <td>...</td>\n",
       "    </tr>\n",
       "    <tr>\n",
       "      <th>82</th>\n",
       "      <td>arrival_airport_STL</td>\n",
       "      <td>0.000532</td>\n",
       "    </tr>\n",
       "    <tr>\n",
       "      <th>83</th>\n",
       "      <td>arrival_airport_TUS</td>\n",
       "      <td>0.000535</td>\n",
       "    </tr>\n",
       "    <tr>\n",
       "      <th>84</th>\n",
       "      <td>departure_delay</td>\n",
       "      <td>0.627186</td>\n",
       "    </tr>\n",
       "    <tr>\n",
       "      <th>85</th>\n",
       "      <td>dayofweek</td>\n",
       "      <td>0.082328</td>\n",
       "    </tr>\n",
       "    <tr>\n",
       "      <th>86</th>\n",
       "      <td>month</td>\n",
       "      <td>0.093338</td>\n",
       "    </tr>\n",
       "  </tbody>\n",
       "</table>\n",
       "<p>87 rows × 2 columns</p>\n",
       "</div>"
      ],
      "text/plain": [
       "       machine_features     value\n",
       "0            airline_AA  0.006162\n",
       "1            airline_AS  0.003410\n",
       "2            airline_B6  0.002127\n",
       "3            airline_CO  0.003240\n",
       "4            airline_DL  0.002935\n",
       "..                  ...       ...\n",
       "82  arrival_airport_STL  0.000532\n",
       "83  arrival_airport_TUS  0.000535\n",
       "84      departure_delay  0.627186\n",
       "85            dayofweek  0.082328\n",
       "86                month  0.093338\n",
       "\n",
       "[87 rows x 2 columns]"
      ]
     },
     "execution_count": 42,
     "metadata": {},
     "output_type": "execute_result"
    }
   ],
   "source": [
    "coeff_pd"
   ]
  },
  {
   "cell_type": "code",
   "execution_count": 43,
   "id": "d803b732",
   "metadata": {},
   "outputs": [],
   "source": [
    "# Sort the features by the absolute value of their coefficient\n",
    "coeff_pd[\"abs_value\"] = coeff_pd[\"value\"].apply(lambda x: abs(x))\n",
    "coeff_pd[\"colors\"] = coeff_pd[\"value\"].apply(lambda x: \"green\" if x > 0 else \"red\")\n",
    "coeff_pd = coeff_pd.sort_values(\"abs_value\", ascending=False)"
   ]
  },
  {
   "cell_type": "code",
   "execution_count": 44,
   "id": "a49e1240",
   "metadata": {},
   "outputs": [
    {
     "data": {
      "text/plain": [
       "Text(0.5, 0, 'Feature Name')"
      ]
     },
     "execution_count": 44,
     "metadata": {},
     "output_type": "execute_result"
    },
    {
     "data": {
      "image/png": "[encoded data removed]",
      "text/plain": [
       "<Figure size 864x504 with 1 Axes>"
      ]
     },
     "metadata": {
      "needs_background": "light"
     },
     "output_type": "display_data"
    }
   ],
   "source": [
    "fig, ax = plt.subplots(1, 1, figsize=(12, 7))\n",
    "sns.barplot(x=\"machine_features\",\n",
    "            y=\"value\",\n",
    "            data=coeff_pd.head(20),\n",
    "           palette=coeff_pd.head(20)[\"colors\"])\n",
    "ax.set_xticklabels(ax.get_xticklabels(), rotation=90, fontsize=20)\n",
    "ax.set_title(\"Top 20 Features\", fontsize=25)\n",
    "ax.set_ylabel(\"Coef\", fontsize=22)\n",
    "ax.set_xlabel(\"Feature Name\", fontsize=22)"
   ]
  },
  {
   "cell_type": "code",
   "execution_count": 45,
   "id": "94dbfe73",
   "metadata": {},
   "outputs": [
    {
     "data": {
      "text/html": [
       "<div>\n",
       "<style scoped>\n",
       "    .dataframe tbody tr th:only-of-type {\n",
       "        vertical-align: middle;\n",
       "    }\n",
       "\n",
       "    .dataframe tbody tr th {\n",
       "        vertical-align: top;\n",
       "    }\n",
       "\n",
       "    .dataframe thead th {\n",
       "        text-align: right;\n",
       "    }\n",
       "</style>\n",
       "<table border=\"1\" class=\"dataframe\">\n",
       "  <thead>\n",
       "    <tr style=\"text-align: right;\">\n",
       "      <th></th>\n",
       "      <th>machine_features</th>\n",
       "      <th>value</th>\n",
       "      <th>abs_value</th>\n",
       "      <th>colors</th>\n",
       "    </tr>\n",
       "  </thead>\n",
       "  <tbody>\n",
       "    <tr>\n",
       "      <th>84</th>\n",
       "      <td>departure_delay</td>\n",
       "      <td>0.627186</td>\n",
       "      <td>0.627186</td>\n",
       "      <td>green</td>\n",
       "    </tr>\n",
       "    <tr>\n",
       "      <th>86</th>\n",
       "      <td>month</td>\n",
       "      <td>0.093338</td>\n",
       "      <td>0.093338</td>\n",
       "      <td>green</td>\n",
       "    </tr>\n",
       "    <tr>\n",
       "      <th>85</th>\n",
       "      <td>dayofweek</td>\n",
       "      <td>0.082328</td>\n",
       "      <td>0.082328</td>\n",
       "      <td>green</td>\n",
       "    </tr>\n",
       "    <tr>\n",
       "      <th>10</th>\n",
       "      <td>airline_OO</td>\n",
       "      <td>0.010761</td>\n",
       "      <td>0.010761</td>\n",
       "      <td>green</td>\n",
       "    </tr>\n",
       "    <tr>\n",
       "      <th>13</th>\n",
       "      <td>airline_WN</td>\n",
       "      <td>0.008595</td>\n",
       "      <td>0.008595</td>\n",
       "      <td>green</td>\n",
       "    </tr>\n",
       "    <tr>\n",
       "      <th>...</th>\n",
       "      <td>...</td>\n",
       "      <td>...</td>\n",
       "      <td>...</td>\n",
       "      <td>...</td>\n",
       "    </tr>\n",
       "    <tr>\n",
       "      <th>26</th>\n",
       "      <td>arrival_airport_BZN</td>\n",
       "      <td>0.000201</td>\n",
       "      <td>0.000201</td>\n",
       "      <td>green</td>\n",
       "    </tr>\n",
       "    <tr>\n",
       "      <th>51</th>\n",
       "      <td>arrival_airport_MCI</td>\n",
       "      <td>0.000106</td>\n",
       "      <td>0.000106</td>\n",
       "      <td>green</td>\n",
       "    </tr>\n",
       "    <tr>\n",
       "      <th>17</th>\n",
       "      <td>arrival_airport_ANC</td>\n",
       "      <td>0.000071</td>\n",
       "      <td>0.000071</td>\n",
       "      <td>green</td>\n",
       "    </tr>\n",
       "    <tr>\n",
       "      <th>14</th>\n",
       "      <td>airline_YV</td>\n",
       "      <td>0.000070</td>\n",
       "      <td>0.000070</td>\n",
       "      <td>green</td>\n",
       "    </tr>\n",
       "    <tr>\n",
       "      <th>18</th>\n",
       "      <td>arrival_airport_ASE</td>\n",
       "      <td>0.000069</td>\n",
       "      <td>0.000069</td>\n",
       "      <td>green</td>\n",
       "    </tr>\n",
       "  </tbody>\n",
       "</table>\n",
       "<p>87 rows × 4 columns</p>\n",
       "</div>"
      ],
      "text/plain": [
       "       machine_features     value  abs_value colors\n",
       "84      departure_delay  0.627186   0.627186  green\n",
       "86                month  0.093338   0.093338  green\n",
       "85            dayofweek  0.082328   0.082328  green\n",
       "10           airline_OO  0.010761   0.010761  green\n",
       "13           airline_WN  0.008595   0.008595  green\n",
       "..                  ...       ...        ...    ...\n",
       "26  arrival_airport_BZN  0.000201   0.000201  green\n",
       "51  arrival_airport_MCI  0.000106   0.000106  green\n",
       "17  arrival_airport_ANC  0.000071   0.000071  green\n",
       "14           airline_YV  0.000070   0.000070  green\n",
       "18  arrival_airport_ASE  0.000069   0.000069  green\n",
       "\n",
       "[87 rows x 4 columns]"
      ]
     },
     "execution_count": 45,
     "metadata": {},
     "output_type": "execute_result"
    }
   ],
   "source": [
    "coeff_pd"
   ]
  },
  {
   "cell_type": "code",
   "execution_count": null,
   "id": "78a049e2",
   "metadata": {},
   "outputs": [],
   "source": []
  },
  {
   "cell_type": "markdown",
   "id": "849fc89b",
   "metadata": {},
   "source": [
    "#### 5.3 เปรียบเทียบผลการทดลองในหลายๆ Algorithms"
   ]
  },
  {
   "cell_type": "code",
   "execution_count": 46,
   "id": "18405cc5",
   "metadata": {},
   "outputs": [],
   "source": [
    "from sklearn.neural_network import MLPClassifier\n",
    "from sklearn.neighbors import KNeighborsClassifier\n",
    "from sklearn.svm import SVC\n",
    "from sklearn.svm import LinearSVC\n",
    "from sklearn.gaussian_process import GaussianProcessClassifier\n",
    "from sklearn.gaussian_process.kernels import RBF\n",
    "from sklearn.tree import DecisionTreeClassifier\n",
    "from sklearn.ensemble import RandomForestClassifier, AdaBoostClassifier\n",
    "from sklearn.naive_bayes import GaussianNB\n",
    "from sklearn.discriminant_analysis import QuadraticDiscriminantAnalysis\n",
    "from sklearn.dummy import DummyClassifier\n",
    "import warnings\n",
    "warnings.simplefilter(\"ignore\")\n"
   ]
  },
  {
   "cell_type": "code",
   "execution_count": 47,
   "id": "116e155b",
   "metadata": {},
   "outputs": [],
   "source": [
    "classifiers = {\n",
    "    \"Dummy\"        : DummyClassifier(strategy='uniform', random_state=2),\n",
    "    \"KNN(3)\"       : KNeighborsClassifier(3), \n",
    "    \"RBF SVM\"      : SVC(gamma=2, C=1), \n",
    "    \"Decision Tree\": DecisionTreeClassifier(max_depth=7), \n",
    "    \"Random Forest\": RandomForestClassifier(max_depth=7, n_estimators=10, max_features=4), \n",
    "    \"Neural Net\"   : MLPClassifier(alpha=1), \n",
    "    \"AdaBoost\"     : AdaBoostClassifier(),\n",
    "    \"Naive Bayes\"  : GaussianNB(), \n",
    "    \"QDA\"          : QuadraticDiscriminantAnalysis(),\n",
    "    \"Linear SVC\"   : LinearSVC(),\n",
    "    \"Linear SVM\"   : SVC(kernel=\"linear\"), \n",
    "    \"Gaussian Proc\": GaussianProcessClassifier(1.0 * RBF(1.0)),\n",
    "}\n"
   ]
  },
  {
   "cell_type": "code",
   "execution_count": 48,
   "id": "682df807",
   "metadata": {},
   "outputs": [
    {
     "name": "stdout",
     "output_type": "stream",
     "text": [
      "Dummy          | score = 0.501 | time = 0.056s/0.015s\n",
      "KNN(3)         | score = 0.849 | time = 0.048s/5.880s\n",
      "RBF SVM        | score = 0.777 | time = 658.263s/60.104s\n",
      "Decision Tree  | score = 0.872 | time = 0.191s/0.016s\n",
      "Random Forest  | score = 0.871 | time = 0.181s/0.022s\n",
      "Neural Net     | score = 0.874 | time = 31.979s/0.038s\n",
      "AdaBoost       | score = 0.873 | time = 2.462s/0.140s\n",
      "Naive Bayes    | score = 0.725 | time = 0.092s/0.022s\n",
      "QDA            | score = 0.825 | time = 0.358s/0.048s\n",
      "Linear SVC     | score = 0.873 | time = 2.328s/0.015s\n"
     ]
    }
   ],
   "source": [
    "from time import time\n",
    "nfast = 10\n",
    "head = list(classifiers.items())[:nfast]\n",
    "\n",
    "for name, classifier in head:\n",
    "    start = time()\n",
    "    pipe = Pipeline(steps=[('preprocessor', preprocessor),\n",
    "                       ('model', classifier)])\n",
    "    pipeline_model = pipe.fit(X_train, y_train.values.flatten())\n",
    "    train_time = time() - start\n",
    "    start = time()\n",
    "    score = pipeline_model.score(X_test, y_test.values.flatten())\n",
    "    score_time = time()-start\n",
    "    print(\"{:<15}| score = {:.3f} | time = {:,.3f}s/{:,.3f}s\".format(name, score, train_time, score_time))"
   ]
  },
  {
   "cell_type": "code",
   "execution_count": null,
   "id": "bc4721a3",
   "metadata": {},
   "outputs": [],
   "source": []
  }
 ],
 "metadata": {
  "environment": {
   "name": "common-cpu.m69",
   "type": "gcloud",
   "uri": "gcr.io/deeplearning-platform-release/base-cpu:m69"
  },
  "kernelspec": {
   "display_name": "Python 3",
   "language": "python",
   "name": "python3"
  },
  "language_info": {
   "codemirror_mode": {
    "name": "ipython",
    "version": 3
   },
   "file_extension": ".py",
   "mimetype": "text/x-python",
   "name": "python",
   "nbconvert_exporter": "python",
   "pygments_lexer": "ipython3",
   "version": "3.7.10"
  }
 },
 "nbformat": 4,
 "nbformat_minor": 5
}
